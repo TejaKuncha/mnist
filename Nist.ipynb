{
 "cells": [
  {
   "cell_type": "code",
   "execution_count": 1,
   "metadata": {},
   "outputs": [
    {
     "name": "stderr",
     "output_type": "stream",
     "text": [
      "Using TensorFlow backend.\n"
     ]
    }
   ],
   "source": [
    "import numpy as np\n",
    "import pandas as pd\n",
    "import matplotlib.pyplot as plt\n",
    "import warnings\n",
    "from time import time\n",
    "from keras.models import Sequential\n",
    "from keras.layers import Conv2D, Conv2DTranspose, MaxPooling2D, GlobalMaxPooling2D, Dense, Dropout, BatchNormalization, Flatten\n",
    "from keras.optimizers import Adam\n",
    "from keras.regularizers import l2\n",
    "from keras.callbacks import EarlyStopping, ReduceLROnPlateau\n",
    "from keras.utils import to_categorical\n",
    "from keras.preprocessing.image import ImageDataGenerator\n",
    "from sklearn.model_selection import train_test_split\n",
    "\n",
    "warnings.filterwarnings('ignore')\n",
    "stop = EarlyStopping('val_loss', 1e-6, 5)\n",
    "lr = ReduceLROnPlateau('val_loss', 0.2)\n",
    "img_gen = ImageDataGenerator(height_shift_range=0.2, width_shift_range=0.2, shear_range=0.2,\n",
    "                             horizontal_flip=True, vertical_flip=True)"
   ]
  },
  {
   "cell_type": "code",
   "execution_count": 2,
   "metadata": {},
   "outputs": [],
   "source": [
    "train_data = pd.read_csv('train.csv')\n",
    "label = train_data['label']\n",
    "train_data = train_data.drop('label', axis=1)\n",
    "train_data = np.array(train_data).reshape(-1, 28, 28, 1)\n"
   ]
  },
  {
   "cell_type": "code",
   "execution_count": 11,
   "metadata": {},
   "outputs": [
    {
     "name": "stdout",
     "output_type": "stream",
     "text": [
      "_________________________________________________________________\n",
      "Layer (type)                 Output Shape              Param #   \n",
      "=================================================================\n",
      "batch_normalization_11 (Batc (None, 28, 28, 1)         4         \n",
      "_________________________________________________________________\n",
      "conv2d_14 (Conv2D)           (None, 28, 28, 32)        320       \n",
      "_________________________________________________________________\n",
      "conv2d_transpose_1 (Conv2DTr (None, 28, 28, 32)        9248      \n",
      "_________________________________________________________________\n",
      "max_pooling2d_14 (MaxPooling (None, 14, 14, 32)        0         \n",
      "_________________________________________________________________\n",
      "conv2d_15 (Conv2D)           (None, 14, 14, 64)        18496     \n",
      "_________________________________________________________________\n",
      "conv2d_transpose_2 (Conv2DTr (None, 14, 14, 64)        36928     \n",
      "_________________________________________________________________\n",
      "max_pooling2d_15 (MaxPooling (None, 7, 7, 64)          0         \n",
      "_________________________________________________________________\n",
      "conv2d_16 (Conv2D)           (None, 7, 7, 128)         73856     \n",
      "_________________________________________________________________\n",
      "conv2d_transpose_3 (Conv2DTr (None, 7, 7, 128)         147584    \n",
      "_________________________________________________________________\n",
      "max_pooling2d_16 (MaxPooling (None, 3, 3, 128)         0         \n",
      "_________________________________________________________________\n",
      "flatten_6 (Flatten)          (None, 1152)              0         \n",
      "_________________________________________________________________\n",
      "batch_normalization_12 (Batc (None, 1152)              4608      \n",
      "_________________________________________________________________\n",
      "dense_16 (Dense)             (None, 64)                73792     \n",
      "_________________________________________________________________\n",
      "dropout_5 (Dropout)          (None, 64)                0         \n",
      "_________________________________________________________________\n",
      "dense_17 (Dense)             (None, 32)                2080      \n",
      "_________________________________________________________________\n",
      "dropout_6 (Dropout)          (None, 32)                0         \n",
      "_________________________________________________________________\n",
      "dense_18 (Dense)             (None, 10)                330       \n",
      "=================================================================\n",
      "Total params: 367,246\n",
      "Trainable params: 364,940\n",
      "Non-trainable params: 2,306\n",
      "_________________________________________________________________\n"
     ]
    }
   ],
   "source": [
    "def classifier():\n",
    "    clf = Sequential()\n",
    "    clf.add(BatchNormalization(input_shape=(28, 28, 1)))\n",
    "    clf.add(Conv2D(32, (3, 3), activation='relu', bias_initializer='glorot_normal', kernel_regularizer=l2(0.01), padding='same'))\n",
    "    clf.add(Conv2DTranspose(32, (3, 3), padding='same', activation='relu', bias_initializer='glorot_normal'))\n",
    "    clf.add(MaxPooling2D())\n",
    "    clf.add(Conv2D(64, (3, 3), activation='relu', bias_initializer='glorot_normal', kernel_regularizer=l2(0.01), padding='same'))\n",
    "    clf.add(Conv2DTranspose(64, (3, 3), padding='same', activation='relu', bias_initializer='glorot_normal'))\n",
    "    clf.add(MaxPooling2D())\n",
    "    clf.add(Conv2D(128, (3, 3), activation='relu', bias_initializer='glorot_normal', kernel_regularizer=l2(0.01), padding='same'))\n",
    "    clf.add(Conv2DTranspose(128, (3, 3), padding='same', activation='relu', bias_initializer='glorot_normal'))\n",
    "    clf.add(MaxPooling2D())\n",
    "    clf.add(Flatten())\n",
    "    clf.add(BatchNormalization())\n",
    "    clf.add(Dense(units=64, activation='relu', bias_initializer='glorot_normal'))\n",
    "    clf.add(Dropout(0.2))\n",
    "    clf.add(Dense(units=32, activation='relu', bias_initializer='glorot_normal'))\n",
    "    clf.add(Dropout(0.1))\n",
    "    clf.add(Dense(units=10, activation='softmax', bias_initializer='glorot_normal'))\n",
    "    opt = Adam(lr=0.003, decay=0.01)\n",
    "    clf.compile(optimizer=opt, loss='categorical_crossentropy', metrics=['categorical_accuracy'])\n",
    "    clf.summary()\n",
    "    return clf\n",
    "\n",
    "model = classifier()"
   ]
  },
  {
   "cell_type": "code",
   "execution_count": 14,
   "metadata": {
    "scrolled": true
   },
   "outputs": [
    {
     "name": "stdout",
     "output_type": "stream",
     "text": [
      "Epoch 1/64\n",
      "788/787 [==============================] - 290s - loss: 1.4474 - categorical_accuracy: 0.5108 - val_loss: 2.4484 - val_categorical_accuracy: 0.3255\n",
      "Epoch 2/64\n",
      "788/787 [==============================] - 278s - loss: 0.8688 - categorical_accuracy: 0.7151 - val_loss: 0.7310 - val_categorical_accuracy: 0.7709\n",
      "Epoch 3/64\n",
      "788/787 [==============================] - 282s - loss: 0.7070 - categorical_accuracy: 0.7818 - val_loss: 0.5337 - val_categorical_accuracy: 0.8501\n",
      "Epoch 4/64\n",
      "788/787 [==============================] - 287s - loss: 0.6243 - categorical_accuracy: 0.8088 - val_loss: 0.5171 - val_categorical_accuracy: 0.8415\n",
      "Epoch 5/64\n",
      "788/787 [==============================] - 295s - loss: 0.5822 - categorical_accuracy: 0.8293 - val_loss: 0.5126 - val_categorical_accuracy: 0.8587\n",
      "Epoch 6/64\n",
      "788/787 [==============================] - 296s - loss: 0.5351 - categorical_accuracy: 0.8458 - val_loss: 0.4988 - val_categorical_accuracy: 0.8603\n",
      "Epoch 7/64\n",
      "788/787 [==============================] - 280s - loss: 0.5088 - categorical_accuracy: 0.8571 - val_loss: 0.4366 - val_categorical_accuracy: 0.8820\n",
      "Epoch 8/64\n",
      "788/787 [==============================] - 281s - loss: 0.4842 - categorical_accuracy: 0.8652 - val_loss: 0.4799 - val_categorical_accuracy: 0.8691\n",
      "Epoch 9/64\n",
      "788/787 [==============================] - 301s - loss: 0.4657 - categorical_accuracy: 0.8698 - val_loss: 0.4064 - val_categorical_accuracy: 0.8868\n",
      "Epoch 10/64\n",
      "788/787 [==============================] - 286s - loss: 0.4518 - categorical_accuracy: 0.8733 - val_loss: 0.4172 - val_categorical_accuracy: 0.8843\n",
      "Epoch 11/64\n",
      "788/787 [==============================] - 303s - loss: 0.4430 - categorical_accuracy: 0.8747 - val_loss: 0.3917 - val_categorical_accuracy: 0.8956\n",
      "Epoch 12/64\n",
      "788/787 [==============================] - 300s - loss: 0.4317 - categorical_accuracy: 0.8825 - val_loss: 0.3698 - val_categorical_accuracy: 0.9027\n",
      "Epoch 13/64\n",
      "788/787 [==============================] - 320s - loss: 0.4160 - categorical_accuracy: 0.8856 - val_loss: 0.3912 - val_categorical_accuracy: 0.8924\n",
      "Epoch 14/64\n",
      "788/787 [==============================] - 300s - loss: 0.4101 - categorical_accuracy: 0.8852 - val_loss: 0.3457 - val_categorical_accuracy: 0.9119\n",
      "Epoch 15/64\n",
      "788/787 [==============================] - 309s - loss: 0.4036 - categorical_accuracy: 0.8895 - val_loss: 0.3327 - val_categorical_accuracy: 0.9129\n",
      "Epoch 16/64\n",
      "788/787 [==============================] - 296s - loss: 0.4015 - categorical_accuracy: 0.8920 - val_loss: 0.3203 - val_categorical_accuracy: 0.9164\n",
      "Epoch 17/64\n",
      "788/787 [==============================] - 290s - loss: 0.3944 - categorical_accuracy: 0.8941 - val_loss: 0.3174 - val_categorical_accuracy: 0.9184\n",
      "Epoch 18/64\n",
      "788/787 [==============================] - 281s - loss: 0.3890 - categorical_accuracy: 0.8943 - val_loss: 0.3285 - val_categorical_accuracy: 0.9161\n",
      "Epoch 19/64\n",
      "788/787 [==============================] - 280s - loss: 0.3856 - categorical_accuracy: 0.8954 - val_loss: 0.3397 - val_categorical_accuracy: 0.9083\n",
      "Epoch 20/64\n",
      "788/787 [==============================] - 299s - loss: 0.3817 - categorical_accuracy: 0.8979 - val_loss: 0.3157 - val_categorical_accuracy: 0.9171\n",
      "Epoch 21/64\n",
      "788/787 [==============================] - 296s - loss: 0.3809 - categorical_accuracy: 0.8975 - val_loss: 0.2988 - val_categorical_accuracy: 0.9223\n",
      "Epoch 22/64\n",
      "788/787 [==============================] - 298s - loss: 0.3725 - categorical_accuracy: 0.8995 - val_loss: 0.2990 - val_categorical_accuracy: 0.9218\n",
      "Epoch 23/64\n",
      "788/787 [==============================] - 294s - loss: 0.3673 - categorical_accuracy: 0.9017 - val_loss: 0.2949 - val_categorical_accuracy: 0.9251\n",
      "Epoch 24/64\n",
      "788/787 [==============================] - 310s - loss: 0.3660 - categorical_accuracy: 0.9024 - val_loss: 0.3205 - val_categorical_accuracy: 0.9163\n",
      "Epoch 25/64\n",
      "788/787 [==============================] - 306s - loss: 0.3641 - categorical_accuracy: 0.9040 - val_loss: 0.2920 - val_categorical_accuracy: 0.9236\n",
      "Epoch 26/64\n",
      "788/787 [==============================] - 284s - loss: 0.3595 - categorical_accuracy: 0.9021 - val_loss: 0.2810 - val_categorical_accuracy: 0.9278\n",
      "Epoch 27/64\n",
      "788/787 [==============================] - 297s - loss: 0.3606 - categorical_accuracy: 0.9025 - val_loss: 0.2964 - val_categorical_accuracy: 0.9235\n",
      "Epoch 28/64\n",
      "788/787 [==============================] - 295s - loss: 0.3554 - categorical_accuracy: 0.9055 - val_loss: 0.3002 - val_categorical_accuracy: 0.9228\n",
      "Epoch 29/64\n",
      "788/787 [==============================] - 300s - loss: 0.3531 - categorical_accuracy: 0.9066 - val_loss: 0.2796 - val_categorical_accuracy: 0.9272\n",
      "Epoch 30/64\n",
      "788/787 [==============================] - 306s - loss: 0.3522 - categorical_accuracy: 0.9037 - val_loss: 0.2912 - val_categorical_accuracy: 0.9222\n",
      "Epoch 31/64\n",
      "788/787 [==============================] - 310s - loss: 0.3448 - categorical_accuracy: 0.9070 - val_loss: 0.2872 - val_categorical_accuracy: 0.9240\n",
      "Epoch 32/64\n",
      "788/787 [==============================] - 367s - loss: 0.3440 - categorical_accuracy: 0.9076 - val_loss: 0.2762 - val_categorical_accuracy: 0.9302\n",
      "Epoch 33/64\n",
      "788/787 [==============================] - 290s - loss: 0.3423 - categorical_accuracy: 0.9099 - val_loss: 0.3020 - val_categorical_accuracy: 0.9193\n",
      "Epoch 34/64\n",
      "788/787 [==============================] - 289s - loss: 0.3404 - categorical_accuracy: 0.9099 - val_loss: 0.2796 - val_categorical_accuracy: 0.9281\n",
      "Epoch 35/64\n",
      "788/787 [==============================] - 287s - loss: 0.3406 - categorical_accuracy: 0.9100 - val_loss: 0.2950 - val_categorical_accuracy: 0.9240\n",
      "Epoch 36/64\n",
      "788/787 [==============================] - 286s - loss: 0.3324 - categorical_accuracy: 0.9099 - val_loss: 0.2724 - val_categorical_accuracy: 0.9299\n",
      "Epoch 37/64\n",
      "788/787 [==============================] - 298s - loss: 0.3388 - categorical_accuracy: 0.9098 - val_loss: 0.2713 - val_categorical_accuracy: 0.9301\n",
      "Epoch 38/64\n",
      "788/787 [==============================] - 291s - loss: 0.3337 - categorical_accuracy: 0.9114 - val_loss: 0.2807 - val_categorical_accuracy: 0.9276\n",
      "Epoch 39/64\n",
      "788/787 [==============================] - 287s - loss: 0.3374 - categorical_accuracy: 0.9103 - val_loss: 0.2705 - val_categorical_accuracy: 0.9298\n",
      "Epoch 40/64\n",
      "788/787 [==============================] - 286s - loss: 0.3285 - categorical_accuracy: 0.9131 - val_loss: 0.2708 - val_categorical_accuracy: 0.9313\n",
      "Epoch 41/64\n",
      "788/787 [==============================] - 299s - loss: 0.3330 - categorical_accuracy: 0.9111 - val_loss: 0.2792 - val_categorical_accuracy: 0.9255\n",
      "Epoch 42/64\n",
      "788/787 [==============================] - 307s - loss: 0.3278 - categorical_accuracy: 0.9135 - val_loss: 0.2778 - val_categorical_accuracy: 0.9276\n",
      "Epoch 43/64\n",
      "788/787 [==============================] - 296s - loss: 0.3289 - categorical_accuracy: 0.9120 - val_loss: 0.2630 - val_categorical_accuracy: 0.9343\n",
      "Epoch 44/64\n",
      "788/787 [==============================] - 293s - loss: 0.3205 - categorical_accuracy: 0.9151 - val_loss: 0.2742 - val_categorical_accuracy: 0.9297\n",
      "Epoch 45/64\n",
      "788/787 [==============================] - 303s - loss: 0.3298 - categorical_accuracy: 0.9123 - val_loss: 0.2643 - val_categorical_accuracy: 0.9311\n",
      "Epoch 46/64\n",
      "788/787 [==============================] - 314s - loss: 0.3241 - categorical_accuracy: 0.9130 - val_loss: 0.2665 - val_categorical_accuracy: 0.9299\n",
      "Epoch 47/64\n",
      "788/787 [==============================] - 284s - loss: 0.3217 - categorical_accuracy: 0.9150 - val_loss: 0.2845 - val_categorical_accuracy: 0.9252\n",
      "Epoch 48/64\n",
      "788/787 [==============================] - 280s - loss: 0.3241 - categorical_accuracy: 0.9149 - val_loss: 0.2653 - val_categorical_accuracy: 0.9316\n",
      "Epoch 49/64\n",
      "788/787 [==============================] - 273s - loss: 0.3249 - categorical_accuracy: 0.9129 - val_loss: 0.2632 - val_categorical_accuracy: 0.9318\n",
      "Time taken = 14505.67 sec\n"
     ]
    }
   ],
   "source": [
    "x_train, x_valid, y_train, y_valid = train_test_split(train_data, to_categorical(label, 10), test_size=0.4)\n",
    "img_gen.fit(x_train, True)\n",
    "\n",
    "t0 = time()\n",
    "batch = 32\n",
    "epoch = 64\n",
    "train_gen = img_gen.flow(x_train, y_train, batch)\n",
    "valid_gen = img_gen.flow(x_valid, y_valid, batch)\n",
    "train_steps = len(x_train) / batch\n",
    "valid_steps = len(x_valid) / batch\n",
    "his = model.fit_generator(generator=train_gen, steps_per_epoch=train_steps, epochs=epoch,\n",
    "                          callbacks=[stop, lr], validation_data=valid_gen, validation_steps=valid_steps)\n",
    "\n",
    "print('Time taken = %0.2f sec' % (time() - t0))\n"
   ]
  },
  {
   "cell_type": "code",
   "execution_count": 15,
   "metadata": {},
   "outputs": [
    {
     "data": {
      "image/png": "[encoded data removed]",
      "text/plain": [
       "<matplotlib.figure.Figure at 0x3db36828>"
      ]
     },
     "metadata": {},
     "output_type": "display_data"
    },
    {
     "data": {
      "image/png": "[encoded data removed]",
      "text/plain": [
       "<matplotlib.figure.Figure at 0x3e1e2160>"
      ]
     },
     "metadata": {},
     "output_type": "display_data"
    }
   ],
   "source": [
    "x = np.arange(len(his.epoch))\n",
    "plt.figure(1)\n",
    "plt.title(\"Loss\")\n",
    "plt.plot(x, his.history['loss'], 'b', label='Training')\n",
    "plt.plot(x, his.history['val_loss'], 'r', label='Validation')\n",
    "plt.legend()\n",
    "plt.figure(2)\n",
    "plt.title(\"Accuracy\")\n",
    "plt.plot(x, his.history['categorical_accuracy'], 'b', label='Training')\n",
    "plt.plot(x, his.history['val_categorical_accuracy'], 'r', label='Validation')\n",
    "plt.legend()\n",
    "plt.show()\n"
   ]
  },
  {
   "cell_type": "code",
   "execution_count": null,
   "metadata": {},
   "outputs": [],
   "source": []
  }
 ],
 "metadata": {
  "kernelspec": {
   "display_name": "Python 3",
   "language": "python",
   "name": "python3"
  },
  "language_info": {
   "codemirror_mode": {
    "name": "ipython",
    "version": 3
   },
   "file_extension": ".py",
   "mimetype": "text/x-python",
   "name": "python",
   "nbconvert_exporter": "python",
   "pygments_lexer": "ipython3",
   "version": "3.6.2"
  }
 },
 "nbformat": 4,
 "nbformat_minor": 2
}
